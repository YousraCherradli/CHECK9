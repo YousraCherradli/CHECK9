{
 "cells": [
  {
   "cell_type": "code",
   "execution_count": null,
   "id": "2e355415",
   "metadata": {},
   "outputs": [],
   "source": [
    "filename = input(\"Enter the filename: \")\n",
    "\n",
    "with open(filename, \"r\") as file:\n",
    "    content = file.read()\n",
    "    print(content)\n"
   ]
  },
  {
   "cell_type": "code",
   "execution_count": null,
   "id": "c4bb0e94",
   "metadata": {},
   "outputs": [],
   "source": [
    "filename = input(\"Enter the filename: \")\n",
    "n = int(input(\"Enter the number of lines: \"))\n",
    "\n",
    "with open(filename, \"r\") as file:\n",
    "    for i in range(n):\n",
    "        print(file.readline())\n"
   ]
  },
  {
   "cell_type": "code",
   "execution_count": null,
   "id": "b4b6cbfe",
   "metadata": {},
   "outputs": [],
   "source": [
    "filename = input(\"Enter the filename: \")\n",
    "n = int(input(\"Enter the number of lines: \"))\n",
    "\n",
    "with open(filename, \"r\") as file:\n",
    "    lines = file.readlines()\n",
    "    for i in range(len(lines) - n, len(lines)):\n",
    "        print(lines[i])\n"
   ]
  },
  {
   "cell_type": "code",
   "execution_count": null,
   "id": "f97e9af1",
   "metadata": {},
   "outputs": [],
   "source": [
    "filename = input(\"Enter the filename: \")\n",
    "\n",
    "with open(filename, \"r\") as file:\n",
    "    content = file.read()\n",
    "    words = content.split()\n",
    "    print(\"Number of words: \", len(words))\n"
   ]
  },
  {
   "cell_type": "code",
   "execution_count": null,
   "id": "e5ef6a74",
   "metadata": {},
   "outputs": [],
   "source": [
    "filename = input(\"Enter the filename: \")\n",
    "n = int(input(\"Enter the number of lines: \"))\n",
    "\n",
    "with open(filename, \"r\") as file:\n",
    "    lines = file.readlines()\n",
    "    start = max(0, len(lines) - n)\n",
    "    for i in range(start, len(lines)):\n",
    "        print(lines[i])\n"
   ]
  },
  {
   "cell_type": "code",
   "execution_count": null,
   "id": "ae556989",
   "metadata": {},
   "outputs": [],
   "source": [
    "def quick_sort(arr, low, high):\n",
    "    if low < high:\n",
    "        pivot_index = partition(arr, low, high)\n",
    "        quick_sort(arr, low, pivot_index - 1)\n",
    "        quick_sort(arr, pivot_index + 1, high)\n",
    "    return arr\n",
    "\n",
    "def partition(arr, low, high):\n",
    "    pivot = arr[high]\n",
    "    i = low - 1\n",
    "    for j in range(low, high):\n",
    "        if arr[\n"
   ]
  },
  {
   "cell_type": "code",
   "execution_count": null,
   "id": "8e94fbea",
   "metadata": {},
   "outputs": [],
   "source": []
  },
  {
   "cell_type": "code",
   "execution_count": null,
   "id": "0d0686ec",
   "metadata": {},
   "outputs": [],
   "source": []
  }
 ],
 "metadata": {
  "kernelspec": {
   "display_name": "Python 3 (ipykernel)",
   "language": "python",
   "name": "python3"
  },
  "language_info": {
   "codemirror_mode": {
    "name": "ipython",
    "version": 3
   },
   "file_extension": ".py",
   "mimetype": "text/x-python",
   "name": "python",
   "nbconvert_exporter": "python",
   "pygments_lexer": "ipython3",
   "version": "3.9.13"
  }
 },
 "nbformat": 4,
 "nbformat_minor": 5
}
